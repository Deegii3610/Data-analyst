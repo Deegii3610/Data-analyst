{
 "cells": [
  {
   "cell_type": "code",
   "execution_count": 3,
   "metadata": {},
   "outputs": [
    {
     "name": "stdout",
     "output_type": "stream",
     "text": [
      "['Here', 'example', 'text', 'isn', 'it']\n",
      "['likes', 'liking', 'liked']\n"
     ]
    }
   ],
   "source": [
    "#Sklearn\n",
    "from sklearn.feature_extraction.text import CountVectorizer\n",
    "tokenizer = CountVectorizer().build_tokenizer()\n",
    "print(tokenizer(\"Here's example text, isn't it?\"))\n",
    "print(tokenizer(\"likes liking liked\"))\n",
    "\n"
   ]
  },
  {
   "cell_type": "code",
   "execution_count": 4,
   "metadata": {},
   "outputs": [
    {
     "name": "stderr",
     "output_type": "stream",
     "text": [
      "[nltk_data] Downloading package punkt to\n",
      "[nltk_data]     C:\\Users\\Dell\\AppData\\Roaming\\nltk_data...\n",
      "[nltk_data]   Package punkt is already up-to-date!\n"
     ]
    },
    {
     "data": {
      "text/plain": [
       "True"
      ]
     },
     "execution_count": 4,
     "metadata": {},
     "output_type": "execute_result"
    }
   ],
   "source": [
    "#nltk\n",
    "import nltk\n",
    "nltk.download('punkt')\n",
    "\n"
   ]
  },
  {
   "cell_type": "code",
   "execution_count": 5,
   "metadata": {},
   "outputs": [
    {
     "name": "stdout",
     "output_type": "stream",
     "text": [
      "[\"Here's\", 'example', 'text,', \"isn't\", 'it?']\n",
      "['likes', 'liking', 'liked']\n"
     ]
    }
   ],
   "source": [
    "#nltk Whitepsace Tokeniser\n",
    "from nltk.tokenize import WhitespaceTokenizer\n",
    "print(WhitespaceTokenizer().tokenize(\"Here's example text, isn't it?\"))\n",
    "print(WhitespaceTokenizer().tokenize(\"likes liking liked\"))\n",
    "\n"
   ]
  },
  {
   "cell_type": "code",
   "execution_count": 6,
   "metadata": {},
   "outputs": [
    {
     "name": "stdout",
     "output_type": "stream",
     "text": [
      "['Here', \"'s\", 'example', 'text', ',', 'is', \"n't\", 'it', '?']\n",
      "['likes', 'liking', 'liked']\n"
     ]
    }
   ],
   "source": [
    "#nltk Word Tokeniser\n",
    "from nltk.tokenize import word_tokenize\n",
    "print(word_tokenize(\"Here's example text, isn't it?\"))\n",
    "print(word_tokenize(\"likes liking liked\"))\n",
    "\n"
   ]
  },
  {
   "cell_type": "code",
   "execution_count": 7,
   "metadata": {},
   "outputs": [
    {
     "name": "stdout",
     "output_type": "stream",
     "text": [
      "['here', \"'s\", 'exampl', 'text', ',', 'is', \"n't\", 'it', '?']\n",
      "['like', 'like', 'like']\n"
     ]
    }
   ],
   "source": [
    "#nltk Stemmer after word tokeniser\n",
    "from nltk.stem import PorterStemmer\n",
    "stemmer = PorterStemmer()\n",
    "tokens = word_tokenize(\"Here's example text, isn't it?\")\n",
    "stems = [stemmer.stem(token) for token in tokens]\n",
    "print(stems)\n",
    "tokens = word_tokenize(\"likes liking liked\")\n",
    "stems = [stemmer.stem(token) for token in tokens]\n",
    "print(stems)"
   ]
  },
  {
   "cell_type": "code",
   "execution_count": 2,
   "metadata": {},
   "outputs": [
    {
     "name": "stdout",
     "output_type": "stream",
     "text": [
      "['and' 'document' 'first' 'is' 'one' 'second' 'the' 'third' 'this']\n",
      "[[0 1 1 1 0 0 1 0 1]\n",
      " [0 1 0 1 0 2 1 0 1]\n",
      " [1 0 0 0 1 0 1 1 0]\n",
      " [0 1 1 1 0 0 1 0 1]]\n",
      "['and' 'and the' 'document' 'first' 'first document' 'is' 'is the'\n",
      " 'is this' 'one' 'second' 'second document' 'second second' 'the'\n",
      " 'the first' 'the second' 'the third' 'third' 'third one' 'this' 'this is'\n",
      " 'this the']\n",
      "[[0 0 1 1 1 1 1 0 0 0 0 0 1 1 0 0 0 0 1 1 0]\n",
      " [0 0 1 0 0 1 1 0 0 2 1 1 1 0 1 0 0 0 1 1 0]\n",
      " [1 1 0 0 0 0 0 0 1 0 0 0 1 0 0 1 1 1 0 0 0]\n",
      " [0 0 1 1 1 1 0 1 0 0 0 0 1 1 0 0 0 0 1 0 1]]\n"
     ]
    }
   ],
   "source": [
    "docs = [\n",
    "'This is the first document.',\n",
    "'This is the second second document.',\n",
    "'And the third one.',\n",
    "'Is this the first document?']\n",
    "from sklearn.feature_extraction.text import CountVectorizer\n",
    "vectorizer = CountVectorizer()\n",
    "X = vectorizer.fit_transform(docs)\n",
    "print(vectorizer.get_feature_names_out())\n",
    "print(X.toarray())\n",
    "vectorizer = CountVectorizer(ngram_range=(1, 2))\n",
    "X = vectorizer.fit_transform(docs)\n",
    "print(vectorizer.get_feature_names_out())\n",
    "print(X.toarray())"
   ]
  }
 ],
 "metadata": {
  "kernelspec": {
   "display_name": "Python 3",
   "language": "python",
   "name": "python3"
  },
  "language_info": {
   "codemirror_mode": {
    "name": "ipython",
    "version": 3
   },
   "file_extension": ".py",
   "mimetype": "text/x-python",
   "name": "python",
   "nbconvert_exporter": "python",
   "pygments_lexer": "ipython3",
   "version": "3.11.9"
  }
 },
 "nbformat": 4,
 "nbformat_minor": 2
}
