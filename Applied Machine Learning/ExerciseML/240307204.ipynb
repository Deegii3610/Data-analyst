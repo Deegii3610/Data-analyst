{
 "cells": [
  {
   "cell_type": "code",
   "execution_count": 1,
   "metadata": {},
   "outputs": [
    {
     "name": "stdout",
     "output_type": "stream",
     "text": [
      "Optimization terminated successfully.\n",
      "         Current function value: 1.143307\n",
      "         Iterations 6\n",
      "                          MNLogit Regression Results                          \n",
      "==============================================================================\n",
      "Dep. Variable:              diagnosis   No. Observations:                   88\n",
      "Model:                        MNLogit   Df Residuals:                       79\n",
      "Method:                           MLE   Df Model:                            6\n",
      "Date:                Thu, 07 Mar 2024   Pseudo R-squ.:                 0.07001\n",
      "Time:                        13:32:28   Log-Likelihood:                -100.61\n",
      "converged:                       True   LL-Null:                       -108.19\n",
      "Covariance Type:            nonrobust   LLR p-value:                   0.01913\n",
      "===================================================================================\n",
      " diagnosis=LG glioma       coef    std err          z      P>|z|      [0.025      0.975]\n",
      "----------------------------------------------------------------------------------------\n",
      "const                   -1.5905      0.843     -1.886      0.059      -3.243       0.063\n",
      "time                     0.0348      0.022      1.565      0.118      -0.009       0.078\n",
      "gtv                     -0.0197      0.050     -0.396      0.692      -0.117       0.078\n",
      "----------------------------------------------------------------------------------------\n",
      "diagnosis=Meningioma       coef    std err          z      P>|z|      [0.025      0.975]\n",
      "----------------------------------------------------------------------------------------\n",
      "const                   -0.3217      0.570     -0.564      0.573      -1.439       0.796\n",
      "time                     0.0431      0.017      2.600      0.009       0.011       0.076\n",
      "gtv                     -0.0181      0.032     -0.564      0.573      -0.081       0.045\n",
      "----------------------------------------------------------------------------------------\n",
      "diagnosis=Other       coef    std err          z      P>|z|      [0.025      0.975]\n",
      "-----------------------------------------------------------------------------------\n",
      "const              -1.1100      0.721     -1.540      0.123      -2.522       0.302\n",
      "time                0.0212      0.020      1.039      0.299      -0.019       0.061\n",
      "gtv                 0.0165      0.036      0.457      0.648      -0.054       0.087\n",
      "===================================================================================\n"
     ]
    }
   ],
   "source": [
    "import statsmodels.api as sm\n",
    "from ISLP import load_data\n",
    "BrainCancer = load_data('BrainCancer')\n",
    "y = BrainCancer['diagnosis']\n",
    "X = sm.add_constant(BrainCancer[['time','gtv']])\n",
    "model = sm.MNLogit(y, X)\n",
    "result = model.fit()\n",
    "print(result.summary())"
   ]
  },
  {
   "cell_type": "code",
   "execution_count": 2,
   "metadata": {},
   "outputs": [
    {
     "name": "stdout",
     "output_type": "stream",
     "text": [
      "Predictions for time=6 andgtv=10:\n",
      "          0         1        2         3\n",
      "0  0.411303  0.084841  0.32226  0.181595\n"
     ]
    }
   ],
   "source": [
    "import pandas as pd\n",
    "new_data = pd.DataFrame({'const': 1,'time': 6, 'gtv': 10}, index=[0])\n",
    "predictions = result.predict(new_data)\n",
    "print(\"Predictions for time=6 andgtv=10:\")\n",
    "print(predictions)"
   ]
  }
 ],
 "metadata": {
  "kernelspec": {
   "display_name": "Python 3",
   "language": "python",
   "name": "python3"
  },
  "language_info": {
   "codemirror_mode": {
    "name": "ipython",
    "version": 3
   },
   "file_extension": ".py",
   "mimetype": "text/x-python",
   "name": "python",
   "nbconvert_exporter": "python",
   "pygments_lexer": "ipython3",
   "version": "3.11.8"
  }
 },
 "nbformat": 4,
 "nbformat_minor": 2
}
