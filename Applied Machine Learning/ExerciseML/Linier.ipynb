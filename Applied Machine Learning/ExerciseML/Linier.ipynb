{
 "cells": [
  {
   "cell_type": "code",
   "execution_count": 1,
   "metadata": {},
   "outputs": [
    {
     "name": "stdout",
     "output_type": "stream",
     "text": [
      "intercept 0.589222, slope 10.072060, square error 0.630528\n",
      "intercept 0.463724, slope 10.271320, square error 0.383719\n",
      "intercept 0.121502, slope 10.519726, square error 0.905533\n",
      "intercept 0.310564, slope 10.715324, square error 0.997249\n",
      "intercept 0.167281, slope 10.921097, square error 1.093292\n"
     ]
    }
   ],
   "source": [
    "import numpy as np\n",
    "from sklearn.model_selection import train_test_split\n",
    "from sklearn.linear_model import LinearRegression\n",
    "from sklearn.metrics import mean_squared_error\n",
    "X = np.arange(0,1,0.05).reshape(-1, 1)\n",
    "y = 10*X + np.random.normal(0.0,1.0,X.size).reshape(-1, 1)\n",
    "for i in range(5):\n",
    "    \n",
    "    Xtrain, Xtest, ytrain, ytest = train_test_split(X,y,test_size=0.2)\n",
    "    \n",
    "    model = LinearRegression().fit(Xtrain, ytrain)\n",
    "    ypred = model.predict(Xtest)\n",
    "    \n",
    "    print('intercept %f, slope %f, square error %f'%(model.intercept_,model.coef_,mean_squared_error(ytest,ypred)))"
   ]
  },
  {
   "cell_type": "code",
   "execution_count": 2,
   "metadata": {},
   "outputs": [
    {
     "name": "stdout",
     "output_type": "stream",
     "text": [
      "Mean Mean Squared Error: 1.5011747531762683\n"
     ]
    }
   ],
   "source": [
    "import numpy as np\n",
    "from sklearn.model_selection import LeaveOneOut\n",
    "from sklearn.linear_model import LinearRegression\n",
    "from sklearn.metrics import mean_squared_error\n",
    "X = np.arange(0, 1, 0.05).reshape(-1, 1)\n",
    "y = 10 * X + np.random.normal(0.0, 1.0, X.size).reshape(-1, 1)\n",
    "loo = LeaveOneOut()\n",
    "mse_values = []\n",
    "for train_index, test_index in loo.split(X):\n",
    "    X_train, X_test = X[train_index], X[test_index]\n",
    "    y_train, y_test = y[train_index], y[test_index]\n",
    "    model = LinearRegression().fit(X_train, y_train)\n",
    "    y_pred = model.predict(X_test)\n",
    "    mse = mean_squared_error(y_test, y_pred)\n",
    "    mse_values.append(mse)\n",
    "mean_mse = np.mean(mse_values)\n",
    "print('Mean Mean Squared Error:', mean_mse)"
   ]
  },
  {
   "cell_type": "code",
   "execution_count": 7,
   "metadata": {},
   "outputs": [
    {
     "data": {
      "text/plain": [
       "[0.33719836718326185,\n",
       " 8.32648041679451,\n",
       " 5.517322700457791,\n",
       " 1.5768959183904852,\n",
       " 0.09595344317301584,\n",
       " 0.835850576068784,\n",
       " 0.28250509435269744,\n",
       " 0.5041808228426155,\n",
       " 0.00225667030546867,\n",
       " 1.9072672193794782,\n",
       " 2.225932782954693,\n",
       " 0.04246071700352181,\n",
       " 0.2172196785994723,\n",
       " 0.03898898792871159,\n",
       " 0.8884238144475206,\n",
       " 1.2070715308868205,\n",
       " 0.8193473698347452,\n",
       " 0.2713967002861352,\n",
       " 4.833360518080431,\n",
       " 0.09338173455520328]"
      ]
     },
     "execution_count": 7,
     "metadata": {},
     "output_type": "execute_result"
    }
   ],
   "source": [
    "mse_values"
   ]
  },
  {
   "cell_type": "code",
   "execution_count": null,
   "metadata": {},
   "outputs": [],
   "source": []
  }
 ],
 "metadata": {
  "kernelspec": {
   "display_name": "Python 3",
   "language": "python",
   "name": "python3"
  },
  "language_info": {
   "codemirror_mode": {
    "name": "ipython",
    "version": 3
   },
   "file_extension": ".py",
   "mimetype": "text/x-python",
   "name": "python",
   "nbconvert_exporter": "python",
   "pygments_lexer": "ipython3",
   "version": "3.11.8"
  }
 },
 "nbformat": 4,
 "nbformat_minor": 2
}
